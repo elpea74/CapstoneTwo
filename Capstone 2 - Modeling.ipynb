{
 "cells": [
  {
   "cell_type": "markdown",
   "id": "035dd61c",
   "metadata": {},
   "source": [
    "# Predicting credit card customer churn - Modeling"
   ]
  },
  {
   "cell_type": "code",
   "execution_count": 2,
   "id": "62a7d90b",
   "metadata": {},
   "outputs": [],
   "source": [
    "# import necessary libraries\n",
    "import os\n",
    "import numpy as np\n",
    "import pandas as pd\n",
    "import matplotlib.pyplot as plt\n",
    "import seaborn as sns\n",
    "\n",
    "# ignore warning messages to ensure clean outputs\n",
    "import warnings\n",
    "warnings.filterwarnings('ignore')"
   ]
  },
  {
   "cell_type": "code",
   "execution_count": 3,
   "id": "ef368495",
   "metadata": {},
   "outputs": [
    {
     "data": {
      "text/html": [
       "<div>\n",
       "<style scoped>\n",
       "    .dataframe tbody tr th:only-of-type {\n",
       "        vertical-align: middle;\n",
       "    }\n",
       "\n",
       "    .dataframe tbody tr th {\n",
       "        vertical-align: top;\n",
       "    }\n",
       "\n",
       "    .dataframe thead th {\n",
       "        text-align: right;\n",
       "    }\n",
       "</style>\n",
       "<table border=\"1\" class=\"dataframe\">\n",
       "  <thead>\n",
       "    <tr style=\"text-align: right;\">\n",
       "      <th></th>\n",
       "      <th>Customer_ID</th>\n",
       "      <th>Dependent_count</th>\n",
       "      <th>Months_on_book</th>\n",
       "      <th>Total_Relationship_Count</th>\n",
       "      <th>Months_Inactive_12_mon</th>\n",
       "      <th>Contacts_Count_12_mon</th>\n",
       "      <th>Credit_Limit</th>\n",
       "      <th>Total_Revolving_Bal</th>\n",
       "      <th>Avg_Open_To_Buy</th>\n",
       "      <th>Total_Amt_Chng_Q4_Q1</th>\n",
       "      <th>Total_Trans_Ct</th>\n",
       "      <th>Total_Ct_Chng_Q4_Q1</th>\n",
       "      <th>Gender_M</th>\n",
       "      <th>Education_Level_Doctorate</th>\n",
       "      <th>Education_Level_Graduate</th>\n",
       "      <th>Education_Level_High School</th>\n",
       "      <th>Education_Level_Post-Graduate</th>\n",
       "      <th>Education_Level_Uneducated</th>\n",
       "      <th>Education_Level_Unknown</th>\n",
       "      <th>Marital_Status_Married</th>\n",
       "      <th>Marital_Status_Single</th>\n",
       "      <th>Marital_Status_Unknown</th>\n",
       "      <th>Income_Category_$40K - $60K</th>\n",
       "      <th>Income_Category_$60K - $80K</th>\n",
       "      <th>Income_Category_$80K - $120K</th>\n",
       "      <th>Income_Category_Less than $40K</th>\n",
       "      <th>Income_Category_Unknown</th>\n",
       "      <th>Card_Category_Gold</th>\n",
       "      <th>Card_Category_Platinum</th>\n",
       "      <th>Card_Category_Silver</th>\n",
       "      <th>Attrition_Flag_Attrited Customer</th>\n",
       "    </tr>\n",
       "  </thead>\n",
       "  <tbody>\n",
       "    <tr>\n",
       "      <th>0</th>\n",
       "      <td>768805383</td>\n",
       "      <td>0.6</td>\n",
       "      <td>0.604651</td>\n",
       "      <td>0.8</td>\n",
       "      <td>0.166667</td>\n",
       "      <td>0.500000</td>\n",
       "      <td>0.340190</td>\n",
       "      <td>0.308701</td>\n",
       "      <td>0.345116</td>\n",
       "      <td>0.392994</td>\n",
       "      <td>0.248062</td>\n",
       "      <td>0.437534</td>\n",
       "      <td>1</td>\n",
       "      <td>0</td>\n",
       "      <td>0</td>\n",
       "      <td>1</td>\n",
       "      <td>0</td>\n",
       "      <td>0</td>\n",
       "      <td>0</td>\n",
       "      <td>1</td>\n",
       "      <td>0</td>\n",
       "      <td>0</td>\n",
       "      <td>0</td>\n",
       "      <td>1</td>\n",
       "      <td>0</td>\n",
       "      <td>0</td>\n",
       "      <td>0</td>\n",
       "      <td>0</td>\n",
       "      <td>0</td>\n",
       "      <td>0</td>\n",
       "      <td>0</td>\n",
       "    </tr>\n",
       "    <tr>\n",
       "      <th>1</th>\n",
       "      <td>818770008</td>\n",
       "      <td>1.0</td>\n",
       "      <td>0.720930</td>\n",
       "      <td>1.0</td>\n",
       "      <td>0.166667</td>\n",
       "      <td>0.333333</td>\n",
       "      <td>0.206112</td>\n",
       "      <td>0.343266</td>\n",
       "      <td>0.214093</td>\n",
       "      <td>0.453636</td>\n",
       "      <td>0.178295</td>\n",
       "      <td>1.000000</td>\n",
       "      <td>0</td>\n",
       "      <td>0</td>\n",
       "      <td>1</td>\n",
       "      <td>0</td>\n",
       "      <td>0</td>\n",
       "      <td>0</td>\n",
       "      <td>0</td>\n",
       "      <td>0</td>\n",
       "      <td>1</td>\n",
       "      <td>0</td>\n",
       "      <td>0</td>\n",
       "      <td>0</td>\n",
       "      <td>0</td>\n",
       "      <td>1</td>\n",
       "      <td>0</td>\n",
       "      <td>0</td>\n",
       "      <td>0</td>\n",
       "      <td>0</td>\n",
       "      <td>0</td>\n",
       "    </tr>\n",
       "    <tr>\n",
       "      <th>2</th>\n",
       "      <td>713982108</td>\n",
       "      <td>0.6</td>\n",
       "      <td>0.534884</td>\n",
       "      <td>0.6</td>\n",
       "      <td>0.166667</td>\n",
       "      <td>0.000000</td>\n",
       "      <td>0.059850</td>\n",
       "      <td>0.000000</td>\n",
       "      <td>0.098948</td>\n",
       "      <td>0.763615</td>\n",
       "      <td>0.077519</td>\n",
       "      <td>0.628164</td>\n",
       "      <td>1</td>\n",
       "      <td>0</td>\n",
       "      <td>1</td>\n",
       "      <td>0</td>\n",
       "      <td>0</td>\n",
       "      <td>0</td>\n",
       "      <td>0</td>\n",
       "      <td>1</td>\n",
       "      <td>0</td>\n",
       "      <td>0</td>\n",
       "      <td>0</td>\n",
       "      <td>0</td>\n",
       "      <td>1</td>\n",
       "      <td>0</td>\n",
       "      <td>0</td>\n",
       "      <td>0</td>\n",
       "      <td>0</td>\n",
       "      <td>0</td>\n",
       "      <td>0</td>\n",
       "    </tr>\n",
       "    <tr>\n",
       "      <th>3</th>\n",
       "      <td>769911858</td>\n",
       "      <td>0.8</td>\n",
       "      <td>0.488372</td>\n",
       "      <td>0.4</td>\n",
       "      <td>0.666667</td>\n",
       "      <td>0.166667</td>\n",
       "      <td>0.056676</td>\n",
       "      <td>1.000000</td>\n",
       "      <td>0.022977</td>\n",
       "      <td>0.413600</td>\n",
       "      <td>0.077519</td>\n",
       "      <td>0.628164</td>\n",
       "      <td>0</td>\n",
       "      <td>0</td>\n",
       "      <td>0</td>\n",
       "      <td>1</td>\n",
       "      <td>0</td>\n",
       "      <td>0</td>\n",
       "      <td>0</td>\n",
       "      <td>0</td>\n",
       "      <td>0</td>\n",
       "      <td>1</td>\n",
       "      <td>0</td>\n",
       "      <td>0</td>\n",
       "      <td>0</td>\n",
       "      <td>1</td>\n",
       "      <td>0</td>\n",
       "      <td>0</td>\n",
       "      <td>0</td>\n",
       "      <td>0</td>\n",
       "      <td>0</td>\n",
       "    </tr>\n",
       "    <tr>\n",
       "      <th>4</th>\n",
       "      <td>709106358</td>\n",
       "      <td>0.6</td>\n",
       "      <td>0.186047</td>\n",
       "      <td>0.8</td>\n",
       "      <td>0.166667</td>\n",
       "      <td>0.000000</td>\n",
       "      <td>0.099091</td>\n",
       "      <td>0.000000</td>\n",
       "      <td>0.136557</td>\n",
       "      <td>0.640271</td>\n",
       "      <td>0.139535</td>\n",
       "      <td>0.673129</td>\n",
       "      <td>1</td>\n",
       "      <td>0</td>\n",
       "      <td>0</td>\n",
       "      <td>0</td>\n",
       "      <td>0</td>\n",
       "      <td>1</td>\n",
       "      <td>0</td>\n",
       "      <td>1</td>\n",
       "      <td>0</td>\n",
       "      <td>0</td>\n",
       "      <td>0</td>\n",
       "      <td>1</td>\n",
       "      <td>0</td>\n",
       "      <td>0</td>\n",
       "      <td>0</td>\n",
       "      <td>0</td>\n",
       "      <td>0</td>\n",
       "      <td>0</td>\n",
       "      <td>0</td>\n",
       "    </tr>\n",
       "  </tbody>\n",
       "</table>\n",
       "</div>"
      ],
      "text/plain": [
       "   Customer_ID  Dependent_count  Months_on_book  Total_Relationship_Count  \\\n",
       "0    768805383              0.6        0.604651                       0.8   \n",
       "1    818770008              1.0        0.720930                       1.0   \n",
       "2    713982108              0.6        0.534884                       0.6   \n",
       "3    769911858              0.8        0.488372                       0.4   \n",
       "4    709106358              0.6        0.186047                       0.8   \n",
       "\n",
       "   Months_Inactive_12_mon  Contacts_Count_12_mon  Credit_Limit  \\\n",
       "0                0.166667               0.500000      0.340190   \n",
       "1                0.166667               0.333333      0.206112   \n",
       "2                0.166667               0.000000      0.059850   \n",
       "3                0.666667               0.166667      0.056676   \n",
       "4                0.166667               0.000000      0.099091   \n",
       "\n",
       "   Total_Revolving_Bal  Avg_Open_To_Buy  Total_Amt_Chng_Q4_Q1  Total_Trans_Ct  \\\n",
       "0             0.308701         0.345116              0.392994        0.248062   \n",
       "1             0.343266         0.214093              0.453636        0.178295   \n",
       "2             0.000000         0.098948              0.763615        0.077519   \n",
       "3             1.000000         0.022977              0.413600        0.077519   \n",
       "4             0.000000         0.136557              0.640271        0.139535   \n",
       "\n",
       "   Total_Ct_Chng_Q4_Q1  Gender_M  Education_Level_Doctorate  \\\n",
       "0             0.437534         1                          0   \n",
       "1             1.000000         0                          0   \n",
       "2             0.628164         1                          0   \n",
       "3             0.628164         0                          0   \n",
       "4             0.673129         1                          0   \n",
       "\n",
       "   Education_Level_Graduate  Education_Level_High School  \\\n",
       "0                         0                            1   \n",
       "1                         1                            0   \n",
       "2                         1                            0   \n",
       "3                         0                            1   \n",
       "4                         0                            0   \n",
       "\n",
       "   Education_Level_Post-Graduate  Education_Level_Uneducated  \\\n",
       "0                              0                           0   \n",
       "1                              0                           0   \n",
       "2                              0                           0   \n",
       "3                              0                           0   \n",
       "4                              0                           1   \n",
       "\n",
       "   Education_Level_Unknown  Marital_Status_Married  Marital_Status_Single  \\\n",
       "0                        0                       1                      0   \n",
       "1                        0                       0                      1   \n",
       "2                        0                       1                      0   \n",
       "3                        0                       0                      0   \n",
       "4                        0                       1                      0   \n",
       "\n",
       "   Marital_Status_Unknown  Income_Category_$40K - $60K  \\\n",
       "0                       0                            0   \n",
       "1                       0                            0   \n",
       "2                       0                            0   \n",
       "3                       1                            0   \n",
       "4                       0                            0   \n",
       "\n",
       "   Income_Category_$60K - $80K  Income_Category_$80K - $120K  \\\n",
       "0                            1                             0   \n",
       "1                            0                             0   \n",
       "2                            0                             1   \n",
       "3                            0                             0   \n",
       "4                            1                             0   \n",
       "\n",
       "   Income_Category_Less than $40K  Income_Category_Unknown  \\\n",
       "0                               0                        0   \n",
       "1                               1                        0   \n",
       "2                               0                        0   \n",
       "3                               1                        0   \n",
       "4                               0                        0   \n",
       "\n",
       "   Card_Category_Gold  Card_Category_Platinum  Card_Category_Silver  \\\n",
       "0                   0                       0                     0   \n",
       "1                   0                       0                     0   \n",
       "2                   0                       0                     0   \n",
       "3                   0                       0                     0   \n",
       "4                   0                       0                     0   \n",
       "\n",
       "   Attrition_Flag_Attrited Customer  \n",
       "0                                 0  \n",
       "1                                 0  \n",
       "2                                 0  \n",
       "3                                 0  \n",
       "4                                 0  "
      ]
     },
     "execution_count": 3,
     "metadata": {},
     "output_type": "execute_result"
    }
   ],
   "source": [
    "df = pd.read_csv('data/BankChurners_preprocessed.csv')\n",
    "\n",
    "# increase limit to show all columns in dataframe\n",
    "pd.set_option('display.max_columns', 500)\n",
    "df.head()"
   ]
  },
  {
   "cell_type": "code",
   "execution_count": 4,
   "id": "8084482f",
   "metadata": {},
   "outputs": [
    {
     "data": {
      "text/plain": [
       "Index(['Customer_ID', 'Dependent_count', 'Months_on_book',\n",
       "       'Total_Relationship_Count', 'Months_Inactive_12_mon',\n",
       "       'Contacts_Count_12_mon', 'Credit_Limit', 'Total_Revolving_Bal',\n",
       "       'Avg_Open_To_Buy', 'Total_Amt_Chng_Q4_Q1', 'Total_Trans_Ct',\n",
       "       'Total_Ct_Chng_Q4_Q1', 'Gender_M', 'Education_Level_Doctorate',\n",
       "       'Education_Level_Graduate', 'Education_Level_High School',\n",
       "       'Education_Level_Post-Graduate', 'Education_Level_Uneducated',\n",
       "       'Education_Level_Unknown', 'Marital_Status_Married',\n",
       "       'Marital_Status_Single', 'Marital_Status_Unknown',\n",
       "       'Income_Category_$40K - $60K', 'Income_Category_$60K - $80K',\n",
       "       'Income_Category_$80K - $120K', 'Income_Category_Less than $40K',\n",
       "       'Income_Category_Unknown', 'Card_Category_Gold',\n",
       "       'Card_Category_Platinum', 'Card_Category_Silver',\n",
       "       'Attrition_Flag_Attrited Customer'],\n",
       "      dtype='object')"
      ]
     },
     "execution_count": 4,
     "metadata": {},
     "output_type": "execute_result"
    }
   ],
   "source": [
    "df.columns"
   ]
  },
  {
   "cell_type": "markdown",
   "id": "97cdeac6",
   "metadata": {},
   "source": [
    "Ignoring the customer ID and the attritted flag columns, we have 29 feature columns. As the values have been scaled previously in [the preprocessing step](https://github.com/elpea74/CapstoneTwo/blob/main/Capstone%202%20-%20Preprocessing.ipynb), their values now all range from 0 to 1. We will now create a new dataset only containing feature columns."
   ]
  },
  {
   "cell_type": "code",
   "execution_count": 5,
   "id": "2cfb3be2",
   "metadata": {},
   "outputs": [
    {
     "data": {
      "text/html": [
       "<div>\n",
       "<style scoped>\n",
       "    .dataframe tbody tr th:only-of-type {\n",
       "        vertical-align: middle;\n",
       "    }\n",
       "\n",
       "    .dataframe tbody tr th {\n",
       "        vertical-align: top;\n",
       "    }\n",
       "\n",
       "    .dataframe thead th {\n",
       "        text-align: right;\n",
       "    }\n",
       "</style>\n",
       "<table border=\"1\" class=\"dataframe\">\n",
       "  <thead>\n",
       "    <tr style=\"text-align: right;\">\n",
       "      <th></th>\n",
       "      <th>Dependent_count</th>\n",
       "      <th>Months_on_book</th>\n",
       "      <th>Total_Relationship_Count</th>\n",
       "      <th>Months_Inactive_12_mon</th>\n",
       "      <th>Contacts_Count_12_mon</th>\n",
       "      <th>Credit_Limit</th>\n",
       "      <th>Total_Revolving_Bal</th>\n",
       "      <th>Avg_Open_To_Buy</th>\n",
       "      <th>Total_Amt_Chng_Q4_Q1</th>\n",
       "      <th>Total_Trans_Ct</th>\n",
       "      <th>Total_Ct_Chng_Q4_Q1</th>\n",
       "      <th>Gender_M</th>\n",
       "      <th>Education_Level_Doctorate</th>\n",
       "      <th>Education_Level_Graduate</th>\n",
       "      <th>Education_Level_High School</th>\n",
       "      <th>Education_Level_Post-Graduate</th>\n",
       "      <th>Education_Level_Uneducated</th>\n",
       "      <th>Education_Level_Unknown</th>\n",
       "      <th>Marital_Status_Married</th>\n",
       "      <th>Marital_Status_Single</th>\n",
       "      <th>Marital_Status_Unknown</th>\n",
       "      <th>Income_Category_$40K - $60K</th>\n",
       "      <th>Income_Category_$60K - $80K</th>\n",
       "      <th>Income_Category_$80K - $120K</th>\n",
       "      <th>Income_Category_Less than $40K</th>\n",
       "      <th>Income_Category_Unknown</th>\n",
       "      <th>Card_Category_Gold</th>\n",
       "      <th>Card_Category_Platinum</th>\n",
       "      <th>Card_Category_Silver</th>\n",
       "    </tr>\n",
       "  </thead>\n",
       "  <tbody>\n",
       "    <tr>\n",
       "      <th>0</th>\n",
       "      <td>0.6</td>\n",
       "      <td>0.604651</td>\n",
       "      <td>0.8</td>\n",
       "      <td>0.166667</td>\n",
       "      <td>0.500000</td>\n",
       "      <td>0.340190</td>\n",
       "      <td>0.308701</td>\n",
       "      <td>0.345116</td>\n",
       "      <td>0.392994</td>\n",
       "      <td>0.248062</td>\n",
       "      <td>0.437534</td>\n",
       "      <td>1</td>\n",
       "      <td>0</td>\n",
       "      <td>0</td>\n",
       "      <td>1</td>\n",
       "      <td>0</td>\n",
       "      <td>0</td>\n",
       "      <td>0</td>\n",
       "      <td>1</td>\n",
       "      <td>0</td>\n",
       "      <td>0</td>\n",
       "      <td>0</td>\n",
       "      <td>1</td>\n",
       "      <td>0</td>\n",
       "      <td>0</td>\n",
       "      <td>0</td>\n",
       "      <td>0</td>\n",
       "      <td>0</td>\n",
       "      <td>0</td>\n",
       "    </tr>\n",
       "    <tr>\n",
       "      <th>1</th>\n",
       "      <td>1.0</td>\n",
       "      <td>0.720930</td>\n",
       "      <td>1.0</td>\n",
       "      <td>0.166667</td>\n",
       "      <td>0.333333</td>\n",
       "      <td>0.206112</td>\n",
       "      <td>0.343266</td>\n",
       "      <td>0.214093</td>\n",
       "      <td>0.453636</td>\n",
       "      <td>0.178295</td>\n",
       "      <td>1.000000</td>\n",
       "      <td>0</td>\n",
       "      <td>0</td>\n",
       "      <td>1</td>\n",
       "      <td>0</td>\n",
       "      <td>0</td>\n",
       "      <td>0</td>\n",
       "      <td>0</td>\n",
       "      <td>0</td>\n",
       "      <td>1</td>\n",
       "      <td>0</td>\n",
       "      <td>0</td>\n",
       "      <td>0</td>\n",
       "      <td>0</td>\n",
       "      <td>1</td>\n",
       "      <td>0</td>\n",
       "      <td>0</td>\n",
       "      <td>0</td>\n",
       "      <td>0</td>\n",
       "    </tr>\n",
       "    <tr>\n",
       "      <th>2</th>\n",
       "      <td>0.6</td>\n",
       "      <td>0.534884</td>\n",
       "      <td>0.6</td>\n",
       "      <td>0.166667</td>\n",
       "      <td>0.000000</td>\n",
       "      <td>0.059850</td>\n",
       "      <td>0.000000</td>\n",
       "      <td>0.098948</td>\n",
       "      <td>0.763615</td>\n",
       "      <td>0.077519</td>\n",
       "      <td>0.628164</td>\n",
       "      <td>1</td>\n",
       "      <td>0</td>\n",
       "      <td>1</td>\n",
       "      <td>0</td>\n",
       "      <td>0</td>\n",
       "      <td>0</td>\n",
       "      <td>0</td>\n",
       "      <td>1</td>\n",
       "      <td>0</td>\n",
       "      <td>0</td>\n",
       "      <td>0</td>\n",
       "      <td>0</td>\n",
       "      <td>1</td>\n",
       "      <td>0</td>\n",
       "      <td>0</td>\n",
       "      <td>0</td>\n",
       "      <td>0</td>\n",
       "      <td>0</td>\n",
       "    </tr>\n",
       "    <tr>\n",
       "      <th>3</th>\n",
       "      <td>0.8</td>\n",
       "      <td>0.488372</td>\n",
       "      <td>0.4</td>\n",
       "      <td>0.666667</td>\n",
       "      <td>0.166667</td>\n",
       "      <td>0.056676</td>\n",
       "      <td>1.000000</td>\n",
       "      <td>0.022977</td>\n",
       "      <td>0.413600</td>\n",
       "      <td>0.077519</td>\n",
       "      <td>0.628164</td>\n",
       "      <td>0</td>\n",
       "      <td>0</td>\n",
       "      <td>0</td>\n",
       "      <td>1</td>\n",
       "      <td>0</td>\n",
       "      <td>0</td>\n",
       "      <td>0</td>\n",
       "      <td>0</td>\n",
       "      <td>0</td>\n",
       "      <td>1</td>\n",
       "      <td>0</td>\n",
       "      <td>0</td>\n",
       "      <td>0</td>\n",
       "      <td>1</td>\n",
       "      <td>0</td>\n",
       "      <td>0</td>\n",
       "      <td>0</td>\n",
       "      <td>0</td>\n",
       "    </tr>\n",
       "    <tr>\n",
       "      <th>4</th>\n",
       "      <td>0.6</td>\n",
       "      <td>0.186047</td>\n",
       "      <td>0.8</td>\n",
       "      <td>0.166667</td>\n",
       "      <td>0.000000</td>\n",
       "      <td>0.099091</td>\n",
       "      <td>0.000000</td>\n",
       "      <td>0.136557</td>\n",
       "      <td>0.640271</td>\n",
       "      <td>0.139535</td>\n",
       "      <td>0.673129</td>\n",
       "      <td>1</td>\n",
       "      <td>0</td>\n",
       "      <td>0</td>\n",
       "      <td>0</td>\n",
       "      <td>0</td>\n",
       "      <td>1</td>\n",
       "      <td>0</td>\n",
       "      <td>1</td>\n",
       "      <td>0</td>\n",
       "      <td>0</td>\n",
       "      <td>0</td>\n",
       "      <td>1</td>\n",
       "      <td>0</td>\n",
       "      <td>0</td>\n",
       "      <td>0</td>\n",
       "      <td>0</td>\n",
       "      <td>0</td>\n",
       "      <td>0</td>\n",
       "    </tr>\n",
       "  </tbody>\n",
       "</table>\n",
       "</div>"
      ],
      "text/plain": [
       "   Dependent_count  Months_on_book  Total_Relationship_Count  \\\n",
       "0              0.6        0.604651                       0.8   \n",
       "1              1.0        0.720930                       1.0   \n",
       "2              0.6        0.534884                       0.6   \n",
       "3              0.8        0.488372                       0.4   \n",
       "4              0.6        0.186047                       0.8   \n",
       "\n",
       "   Months_Inactive_12_mon  Contacts_Count_12_mon  Credit_Limit  \\\n",
       "0                0.166667               0.500000      0.340190   \n",
       "1                0.166667               0.333333      0.206112   \n",
       "2                0.166667               0.000000      0.059850   \n",
       "3                0.666667               0.166667      0.056676   \n",
       "4                0.166667               0.000000      0.099091   \n",
       "\n",
       "   Total_Revolving_Bal  Avg_Open_To_Buy  Total_Amt_Chng_Q4_Q1  Total_Trans_Ct  \\\n",
       "0             0.308701         0.345116              0.392994        0.248062   \n",
       "1             0.343266         0.214093              0.453636        0.178295   \n",
       "2             0.000000         0.098948              0.763615        0.077519   \n",
       "3             1.000000         0.022977              0.413600        0.077519   \n",
       "4             0.000000         0.136557              0.640271        0.139535   \n",
       "\n",
       "   Total_Ct_Chng_Q4_Q1  Gender_M  Education_Level_Doctorate  \\\n",
       "0             0.437534         1                          0   \n",
       "1             1.000000         0                          0   \n",
       "2             0.628164         1                          0   \n",
       "3             0.628164         0                          0   \n",
       "4             0.673129         1                          0   \n",
       "\n",
       "   Education_Level_Graduate  Education_Level_High School  \\\n",
       "0                         0                            1   \n",
       "1                         1                            0   \n",
       "2                         1                            0   \n",
       "3                         0                            1   \n",
       "4                         0                            0   \n",
       "\n",
       "   Education_Level_Post-Graduate  Education_Level_Uneducated  \\\n",
       "0                              0                           0   \n",
       "1                              0                           0   \n",
       "2                              0                           0   \n",
       "3                              0                           0   \n",
       "4                              0                           1   \n",
       "\n",
       "   Education_Level_Unknown  Marital_Status_Married  Marital_Status_Single  \\\n",
       "0                        0                       1                      0   \n",
       "1                        0                       0                      1   \n",
       "2                        0                       1                      0   \n",
       "3                        0                       0                      0   \n",
       "4                        0                       1                      0   \n",
       "\n",
       "   Marital_Status_Unknown  Income_Category_$40K - $60K  \\\n",
       "0                       0                            0   \n",
       "1                       0                            0   \n",
       "2                       0                            0   \n",
       "3                       1                            0   \n",
       "4                       0                            0   \n",
       "\n",
       "   Income_Category_$60K - $80K  Income_Category_$80K - $120K  \\\n",
       "0                            1                             0   \n",
       "1                            0                             0   \n",
       "2                            0                             1   \n",
       "3                            0                             0   \n",
       "4                            1                             0   \n",
       "\n",
       "   Income_Category_Less than $40K  Income_Category_Unknown  \\\n",
       "0                               0                        0   \n",
       "1                               1                        0   \n",
       "2                               0                        0   \n",
       "3                               1                        0   \n",
       "4                               0                        0   \n",
       "\n",
       "   Card_Category_Gold  Card_Category_Platinum  Card_Category_Silver  \n",
       "0                   0                       0                     0  \n",
       "1                   0                       0                     0  \n",
       "2                   0                       0                     0  \n",
       "3                   0                       0                     0  \n",
       "4                   0                       0                     0  "
      ]
     },
     "execution_count": 5,
     "metadata": {},
     "output_type": "execute_result"
    }
   ],
   "source": [
    "feature_cols = ['Dependent_count', 'Months_on_book',\n",
    "       'Total_Relationship_Count', 'Months_Inactive_12_mon',\n",
    "       'Contacts_Count_12_mon', 'Credit_Limit', 'Total_Revolving_Bal',\n",
    "       'Avg_Open_To_Buy', 'Total_Amt_Chng_Q4_Q1',\n",
    "       'Total_Trans_Ct', 'Total_Ct_Chng_Q4_Q1',\n",
    "       'Gender_M', 'Education_Level_Doctorate', 'Education_Level_Graduate',\n",
    "       'Education_Level_High School', 'Education_Level_Post-Graduate',\n",
    "       'Education_Level_Uneducated', 'Education_Level_Unknown',\n",
    "       'Marital_Status_Married', 'Marital_Status_Single',\n",
    "       'Marital_Status_Unknown', 'Income_Category_$40K - $60K',\n",
    "       'Income_Category_$60K - $80K', 'Income_Category_$80K - $120K',\n",
    "       'Income_Category_Less than $40K', 'Income_Category_Unknown',\n",
    "       'Card_Category_Gold', 'Card_Category_Platinum', 'Card_Category_Silver']\n",
    "df_feature = df[feature_cols]\n",
    "df_feature.head()"
   ]
  },
  {
   "cell_type": "code",
   "execution_count": 6,
   "id": "1e3da77a",
   "metadata": {},
   "outputs": [],
   "source": [
    "X = df_feature\n",
    "y = df['Attrition_Flag_Attrited Customer']"
   ]
  },
  {
   "cell_type": "markdown",
   "id": "c74c66bd",
   "metadata": {},
   "source": [
    "SMOTE was also determined previously to help increase the recall score of a Random Forest model. Therefore, we'll use SMOTE to oversample the minority class (i.e. Attritted customers)"
   ]
  },
  {
   "cell_type": "code",
   "execution_count": 7,
   "id": "36b6c51e",
   "metadata": {},
   "outputs": [
    {
     "name": "stdout",
     "output_type": "stream",
     "text": [
      "Shape of X before SMOTE: (10120, 29)\n",
      "Shape of X after SMOTE: (16988, 29)\n",
      "\n",
      "Balance of positive and negative classes (%):\n"
     ]
    },
    {
     "data": {
      "text/plain": [
       "0    50.0\n",
       "1    50.0\n",
       "Name: Attrition_Flag_Attrited Customer, dtype: float64"
      ]
     },
     "execution_count": 7,
     "metadata": {},
     "output_type": "execute_result"
    }
   ],
   "source": [
    "from imblearn.over_sampling import SMOTE \n",
    "\n",
    "sm = SMOTE(random_state=42)\n",
    "\n",
    "X_sm, y_sm = sm.fit_resample(X, y)\n",
    "\n",
    "print(f'''Shape of X before SMOTE: {X.shape}\n",
    "Shape of X after SMOTE: {X_sm.shape}''')\n",
    "\n",
    "print('\\nBalance of positive and negative classes (%):')\n",
    "y_sm.value_counts(normalize=True) * 100"
   ]
  },
  {
   "cell_type": "markdown",
   "id": "20340db3",
   "metadata": {},
   "source": [
    "## Applying machine learning models"
   ]
  },
  {
   "cell_type": "markdown",
   "id": "5e13eaf1",
   "metadata": {},
   "source": [
    "As this is a classification problem aiming to predict which customers churn their credit cards, we will use the following ML models:\n",
    "\n",
    "- Logistic Regression\n",
    "- K-Nearest Neighbor (KNN)\n",
    "- Support vector machine (SVM)\n",
    "- Random Forest\n",
    "- Gradient Boost\n",
    "\n",
    "We will split the dataset into a training and a testing set."
   ]
  },
  {
   "cell_type": "code",
   "execution_count": 8,
   "id": "bb22039e",
   "metadata": {},
   "outputs": [],
   "source": [
    "from sklearn.model_selection import train_test_split\n",
    "\n",
    "X_train, X_test, y_train, y_test = train_test_split(X_sm, y_sm, test_size=0.25, random_state=42)"
   ]
  },
  {
   "cell_type": "code",
   "execution_count": 57,
   "id": "6c88596a",
   "metadata": {},
   "outputs": [],
   "source": [
    "# importing all models\n",
    "from sklearn.linear_model import LogisticRegression\n",
    "from sklearn.neighbors import KNeighborsClassifier\n",
    "from sklearn.svm import SVC\n",
    "from sklearn.ensemble import RandomForestClassifier, GradientBoostingClassifier\n",
    "from sklearn.metrics import accuracy_score, precision_score, recall_score, confusion_matrix"
   ]
  },
  {
   "cell_type": "markdown",
   "id": "6e7a2bd4",
   "metadata": {},
   "source": [
    "### Logistic Regression"
   ]
  },
  {
   "cell_type": "code",
   "execution_count": 10,
   "id": "dec5038f",
   "metadata": {},
   "outputs": [
    {
     "data": {
      "text/html": [
       "<div>\n",
       "<style scoped>\n",
       "    .dataframe tbody tr th:only-of-type {\n",
       "        vertical-align: middle;\n",
       "    }\n",
       "\n",
       "    .dataframe tbody tr th {\n",
       "        vertical-align: top;\n",
       "    }\n",
       "\n",
       "    .dataframe thead th {\n",
       "        text-align: right;\n",
       "    }\n",
       "</style>\n",
       "<table border=\"1\" class=\"dataframe\">\n",
       "  <thead>\n",
       "    <tr style=\"text-align: right;\">\n",
       "      <th></th>\n",
       "      <th>C_parameter</th>\n",
       "      <th>Accuracy</th>\n",
       "    </tr>\n",
       "  </thead>\n",
       "  <tbody>\n",
       "    <tr>\n",
       "      <th>0</th>\n",
       "      <td>0.001</td>\n",
       "      <td>0.784318</td>\n",
       "    </tr>\n",
       "    <tr>\n",
       "      <th>1</th>\n",
       "      <td>0.010</td>\n",
       "      <td>0.830704</td>\n",
       "    </tr>\n",
       "    <tr>\n",
       "      <th>2</th>\n",
       "      <td>0.100</td>\n",
       "      <td>0.849305</td>\n",
       "    </tr>\n",
       "    <tr>\n",
       "      <th>3</th>\n",
       "      <td>1.000</td>\n",
       "      <td>0.853308</td>\n",
       "    </tr>\n",
       "    <tr>\n",
       "      <th>4</th>\n",
       "      <td>10.000</td>\n",
       "      <td>0.854015</td>\n",
       "    </tr>\n",
       "    <tr>\n",
       "      <th>5</th>\n",
       "      <td>100.000</td>\n",
       "      <td>0.854486</td>\n",
       "    </tr>\n",
       "  </tbody>\n",
       "</table>\n",
       "</div>"
      ],
      "text/plain": [
       "   C_parameter  Accuracy\n",
       "0        0.001  0.784318\n",
       "1        0.010  0.830704\n",
       "2        0.100  0.849305\n",
       "3        1.000  0.853308\n",
       "4       10.000  0.854015\n",
       "5      100.000  0.854486"
      ]
     },
     "execution_count": 10,
     "metadata": {},
     "output_type": "execute_result"
    }
   ],
   "source": [
    "C_param_range = [0.001,0.01,0.1,1,10,100]\n",
    "\n",
    "table = pd.DataFrame(columns = ['C_parameter','Accuracy'])\n",
    "table['C_parameter'] = C_param_range\n",
    "\n",
    "\n",
    "j = 0\n",
    "for i in C_param_range:\n",
    "    \n",
    "    # Apply logistic regression model to training data\n",
    "    logreg = LogisticRegression(penalty = 'l2', C = i,random_state = 40)\n",
    "    logreg.fit(X_train,y_train)\n",
    "    \n",
    "    # Predict using model\n",
    "    y_pred_lr = logreg.predict(X_test)\n",
    "    \n",
    "    # Saving accuracy score in table\n",
    "    table.iloc[j,1] = accuracy_score(y_test,y_pred_lr)\n",
    "    j += 1\n",
    "    \n",
    "table"
   ]
  },
  {
   "cell_type": "code",
   "execution_count": 11,
   "id": "f3d9846d",
   "metadata": {},
   "outputs": [
    {
     "name": "stdout",
     "output_type": "stream",
     "text": [
      "Accuracy = 0.8545\n",
      "Recall = 0.8538\n",
      "\n"
     ]
    },
    {
     "data": {
      "image/png": "[encoded data removed]",
      "text/plain": [
       "<Figure size 576x432 with 2 Axes>"
      ]
     },
     "metadata": {
      "needs_background": "light"
     },
     "output_type": "display_data"
    }
   ],
   "source": [
    "# Evaluate\n",
    "print(f'Accuracy = {accuracy_score(y_test, y_pred_lr):.4f}\\nRecall = {recall_score(y_test, y_pred_lr):.4f}\\n')\n",
    "cm = confusion_matrix(y_test, y_pred_lr)\n",
    "plt.figure(figsize=(8, 6))\n",
    "plt.title('Confusion Matrix Logistic Regression', size=16)\n",
    "sns.heatmap(cm, annot=True, cmap='Blues', fmt='.1f');"
   ]
  },
  {
   "cell_type": "code",
   "execution_count": 12,
   "id": "30811860",
   "metadata": {},
   "outputs": [
    {
     "name": "stdout",
     "output_type": "stream",
     "text": [
      "[0.9228495  0.93435979 0.91397241 0.92717849 0.93786142]\n",
      "Mean cross validation test score: 0.9272443208337382\n",
      "Mean cross validation train score: 0.9258436038310338\n",
      "Standard deviation in cv test scores: 0.008471305329575492\n"
     ]
    }
   ],
   "source": [
    "from sklearn.model_selection import cross_val_score\n",
    "\n",
    "cv_scores_test= cross_val_score(logreg,X_test,y_test,cv=5,scoring='roc_auc')\n",
    "cv_scores_train= cross_val_score(logreg,X_train,y_train,cv=5,scoring='roc_auc')\n",
    "print(cv_scores_test)\n",
    "cv_scores_lr_test= cv_scores_test.mean()\n",
    "cv_scores_lr_train= cv_scores_train.mean()\n",
    "cv_scores_std_test_lr= cv_scores_test.std()\n",
    "print ('Mean cross validation test score: ' +str(cv_scores_lr_test))\n",
    "print ('Mean cross validation train score: ' +str(cv_scores_lr_train))\n",
    "print ('Standard deviation in cv test scores: ' +str(cv_scores_std_test_lr))"
   ]
  },
  {
   "cell_type": "markdown",
   "id": "2c015708",
   "metadata": {},
   "source": [
    "### K-Nearest Neighbors"
   ]
  },
  {
   "cell_type": "code",
   "execution_count": 13,
   "id": "094ac2bb",
   "metadata": {},
   "outputs": [
    {
     "name": "stdout",
     "output_type": "stream",
     "text": [
      "Accuracy = 0.8437\n",
      "Recall = 0.9678\n",
      "\n"
     ]
    },
    {
     "data": {
      "image/png": "[encoded data removed]",
      "text/plain": [
       "<Figure size 576x432 with 2 Axes>"
      ]
     },
     "metadata": {
      "needs_background": "light"
     },
     "output_type": "display_data"
    }
   ],
   "source": [
    "knn = KNeighborsClassifier(n_neighbors=10, weights='distance')\n",
    "\n",
    "# Fit model to training data\n",
    "knn.fit(X_train, y_train)\n",
    "\n",
    "# Predict using model: \n",
    "y_pred_knn = knn.predict(X_test)\n",
    "\n",
    "# Evaluate\n",
    "print(f'Accuracy = {accuracy_score(y_test, y_pred_knn):.4f}\\nRecall = {recall_score(y_test, y_pred_knn):.4f}\\n')\n",
    "cm = confusion_matrix(y_test, y_pred_knn)\n",
    "plt.figure(figsize=(8, 6))\n",
    "plt.title('Confusion Matrix K-Nearest Neighbors', size=16)\n",
    "sns.heatmap(cm, annot=True, cmap='Blues', fmt='.1f');"
   ]
  },
  {
   "cell_type": "code",
   "execution_count": 14,
   "id": "27fe79f1",
   "metadata": {},
   "outputs": [
    {
     "name": "stdout",
     "output_type": "stream",
     "text": [
      "[0.85424175 0.89525581 0.88307306 0.85378814 0.8876128 ]\n",
      "Mean cross validation test score: 0.8747943130700809\n",
      "Mean cross validation train score: 0.942982745871873\n",
      "Standard deviation in cv test scores: 0.01740799307206381\n"
     ]
    }
   ],
   "source": [
    "cv_scores_test= cross_val_score(knn,X_test,y_test,cv=5,scoring='roc_auc')\n",
    "cv_scores_train= cross_val_score(knn,X_train,y_train,cv=5,scoring='roc_auc')\n",
    "print(cv_scores_test)\n",
    "cv_scores_knn_test= cv_scores_test.mean()\n",
    "cv_scores_knn_train= cv_scores_train.mean()\n",
    "cv_scores_std_test_knn= cv_scores_test.std()\n",
    "print ('Mean cross validation test score: ' +str(cv_scores_knn_test))\n",
    "print ('Mean cross validation train score: ' +str(cv_scores_knn_train))\n",
    "print ('Standard deviation in cv test scores: ' +str(cv_scores_std_test_knn))"
   ]
  },
  {
   "cell_type": "markdown",
   "id": "c98dad92",
   "metadata": {},
   "source": [
    "### Support vector machine"
   ]
  },
  {
   "cell_type": "code",
   "execution_count": 15,
   "id": "f07373db",
   "metadata": {},
   "outputs": [
    {
     "name": "stdout",
     "output_type": "stream",
     "text": [
      "Accuracy = 0.9009\n",
      "Recall = 0.9101\n",
      "\n"
     ]
    },
    {
     "data": {
      "image/png": "[encoded data removed]",
      "text/plain": [
       "<Figure size 576x432 with 2 Axes>"
      ]
     },
     "metadata": {
      "needs_background": "light"
     },
     "output_type": "display_data"
    }
   ],
   "source": [
    "svm = SVC()\n",
    "\n",
    "# Fit model to training data\n",
    "svm.fit(X_train, y_train)\n",
    "\n",
    "# Predict using model: \n",
    "y_pred_svm = svm.predict(X_test)\n",
    "\n",
    "# Evaluate\n",
    "print(f'Accuracy = {accuracy_score(y_test, y_pred_svm):.4f}\\nRecall = {recall_score(y_test, y_pred_svm):.4f}\\n')\n",
    "cm = confusion_matrix(y_test, y_pred_svm)\n",
    "plt.figure(figsize=(8, 6))\n",
    "plt.title('Confusion Matrix SVM', size=16)\n",
    "sns.heatmap(cm, annot=True, cmap='Blues', fmt='.1f');\n"
   ]
  },
  {
   "cell_type": "code",
   "execution_count": 16,
   "id": "6c492a02",
   "metadata": {},
   "outputs": [
    {
     "name": "stdout",
     "output_type": "stream",
     "text": [
      "[0.93936475 0.95291799 0.93112021 0.94740113 0.95387749]\n",
      "Mean cross validation test score: 0.9449363139627499\n",
      "Mean cross validation train score: 0.9525898548606463\n",
      "Standard deviation in cv test scores: 0.008621532088977807\n"
     ]
    }
   ],
   "source": [
    "cv_scores_test= cross_val_score(svm,X_test,y_test,cv=5,scoring='roc_auc')\n",
    "cv_scores_train= cross_val_score(svm,X_train,y_train,cv=5,scoring='roc_auc')\n",
    "print(cv_scores_test)\n",
    "cv_scores_svm_test= cv_scores_test.mean()\n",
    "cv_scores_svm_train= cv_scores_train.mean()\n",
    "cv_scores_std_test_svm= cv_scores_test.std()\n",
    "print ('Mean cross validation test score: ' +str(cv_scores_svm_test))\n",
    "print ('Mean cross validation train score: ' +str(cv_scores_svm_train))\n",
    "print ('Standard deviation in cv test scores: ' +str(cv_scores_std_test_svm))"
   ]
  },
  {
   "cell_type": "markdown",
   "id": "3d4afe8e",
   "metadata": {},
   "source": [
    "### Random Forest"
   ]
  },
  {
   "cell_type": "code",
   "execution_count": 17,
   "id": "5ac776f8",
   "metadata": {},
   "outputs": [
    {
     "name": "stdout",
     "output_type": "stream",
     "text": [
      "Accuracy = 0.9602\n",
      "Recall = 0.9546\n",
      "\n"
     ]
    },
    {
     "data": {
      "image/png": "[encoded data removed]",
      "text/plain": [
       "<Figure size 576x432 with 2 Axes>"
      ]
     },
     "metadata": {
      "needs_background": "light"
     },
     "output_type": "display_data"
    }
   ],
   "source": [
    "rf = RandomForestClassifier(random_state=42)\n",
    "\n",
    "# Fit model to training data\n",
    "rf.fit(X_train, y_train)\n",
    "\n",
    "# Predict using model: \n",
    "y_pred_rf = rf.predict(X_test)\n",
    "\n",
    "# Evaluate\n",
    "print(f'Accuracy = {accuracy_score(y_test, y_pred_rf):.4f}\\nRecall = {recall_score(y_test, y_pred_rf):.4f}\\n')\n",
    "cm = confusion_matrix(y_test, y_pred_rf)\n",
    "plt.figure(figsize=(8, 6))\n",
    "plt.title('Confusion Matrix Random Forest', size=16)\n",
    "sns.heatmap(cm, annot=True, cmap='Blues', fmt='.1f');\n"
   ]
  },
  {
   "cell_type": "code",
   "execution_count": 18,
   "id": "5d30d593",
   "metadata": {},
   "outputs": [
    {
     "name": "stdout",
     "output_type": "stream",
     "text": [
      "[0.98418235 0.98760388 0.98323233 0.98895357 0.98854845]\n",
      "Mean cross validation test score: 0.9865041170649306\n",
      "Mean cross validation train score: 0.9914975686948935\n",
      "Standard deviation in cv test scores: 0.002344516682821443\n"
     ]
    }
   ],
   "source": [
    "cv_scores_test= cross_val_score(rf,X_test,y_test,cv=5,scoring='roc_auc')\n",
    "cv_scores_train= cross_val_score(rf,X_train,y_train,cv=5,scoring='roc_auc')\n",
    "print(cv_scores_test)\n",
    "cv_scores_rf_test= cv_scores_test.mean()\n",
    "cv_scores_rf_train= cv_scores_train.mean()\n",
    "cv_scores_std_test_rf= cv_scores_test.std()\n",
    "print ('Mean cross validation test score: ' +str(cv_scores_rf_test))\n",
    "print ('Mean cross validation train score: ' +str(cv_scores_rf_train))\n",
    "print ('Standard deviation in cv test scores: ' +str(cv_scores_std_test_rf))"
   ]
  },
  {
   "cell_type": "markdown",
   "id": "11fdf33c",
   "metadata": {},
   "source": [
    "### Gradient Boost"
   ]
  },
  {
   "cell_type": "code",
   "execution_count": 19,
   "id": "c01c2926",
   "metadata": {},
   "outputs": [
    {
     "name": "stdout",
     "output_type": "stream",
     "text": [
      "Accuracy = 0.9569\n",
      "Recall = 0.9484\n",
      "\n"
     ]
    },
    {
     "data": {
      "image/png": "[encoded data removed]",
      "text/plain": [
       "<Figure size 576x432 with 2 Axes>"
      ]
     },
     "metadata": {
      "needs_background": "light"
     },
     "output_type": "display_data"
    }
   ],
   "source": [
    "gb = GradientBoostingClassifier(n_estimators=100, learning_rate=1.0, random_state=42)\n",
    "\n",
    "# Fit model to training data\n",
    "gb.fit(X_train, y_train)\n",
    "\n",
    "# Predict using model: \n",
    "y_pred_gb = gb.predict(X_test)\n",
    "\n",
    "# Evaluate\n",
    "print(f'Accuracy = {accuracy_score(y_test, y_pred_gb):.4f}\\nRecall = {recall_score(y_test, y_pred_gb):.4f}\\n')\n",
    "cm = confusion_matrix(y_test, y_pred_gb)\n",
    "plt.figure(figsize=(8, 6))\n",
    "plt.title('Confusion Matrix Gradient Boost', size=16)\n",
    "sns.heatmap(cm, annot=True, cmap='Blues', fmt='.1f');"
   ]
  },
  {
   "cell_type": "code",
   "execution_count": 20,
   "id": "9bb4cc49",
   "metadata": {},
   "outputs": [
    {
     "name": "stdout",
     "output_type": "stream",
     "text": [
      "[0.98528964 0.98403286 0.9837734  0.99321842 0.98593183]\n",
      "Mean cross validation test score: 0.9864492316027846\n",
      "Mean cross validation train score: 0.9864492316027846\n",
      "Standard deviation in cv test scores: 0.003476583150593824\n"
     ]
    }
   ],
   "source": [
    "cv_scores_test= cross_val_score(gb,X_test,y_test,cv=5,scoring='roc_auc')\n",
    "cv_scores_train= cross_val_score(gb,X_train,y_train,cv=5,scoring='roc_auc')\n",
    "print(cv_scores_test)\n",
    "cv_scores_gb_test= cv_scores_test.mean()\n",
    "cv_scores_gb_train= cv_scores_train.mean()\n",
    "cv_scores_std_test_gb= cv_scores_test.std()\n",
    "print ('Mean cross validation test score: ' +str(cv_scores_gb_test))\n",
    "print ('Mean cross validation train score: ' +str(cv_scores_gb_test))\n",
    "print ('Standard deviation in cv test scores: ' +str(cv_scores_std_test_gb))"
   ]
  },
  {
   "cell_type": "markdown",
   "id": "f444858c",
   "metadata": {},
   "source": [
    "## Model comparison"
   ]
  },
  {
   "cell_type": "markdown",
   "id": "927e9001",
   "metadata": {},
   "source": [
    "We applied different ML models and evaluate them using ROC-AUC scores. We will now compare the cross validation test score of all models to see which one is the most accurate."
   ]
  },
  {
   "cell_type": "code",
   "execution_count": 21,
   "id": "04141803",
   "metadata": {},
   "outputs": [
    {
     "data": {
      "text/html": [
       "<div>\n",
       "<style scoped>\n",
       "    .dataframe tbody tr th:only-of-type {\n",
       "        vertical-align: middle;\n",
       "    }\n",
       "\n",
       "    .dataframe tbody tr th {\n",
       "        vertical-align: top;\n",
       "    }\n",
       "\n",
       "    .dataframe thead th {\n",
       "        text-align: right;\n",
       "    }\n",
       "</style>\n",
       "<table border=\"1\" class=\"dataframe\">\n",
       "  <thead>\n",
       "    <tr style=\"text-align: right;\">\n",
       "      <th></th>\n",
       "      <th>Model</th>\n",
       "      <th>CV test score</th>\n",
       "      <th>CV train score</th>\n",
       "      <th>Accuracy</th>\n",
       "    </tr>\n",
       "  </thead>\n",
       "  <tbody>\n",
       "    <tr>\n",
       "      <th>0</th>\n",
       "      <td>Logistic Regression</td>\n",
       "      <td>0.9272443</td>\n",
       "      <td>0.9258436</td>\n",
       "      <td>0.8544855</td>\n",
       "    </tr>\n",
       "    <tr>\n",
       "      <th>1</th>\n",
       "      <td>K-Nearest Neighbors</td>\n",
       "      <td>0.8747943</td>\n",
       "      <td>0.94298273</td>\n",
       "      <td>0.84365433</td>\n",
       "    </tr>\n",
       "    <tr>\n",
       "      <th>2</th>\n",
       "      <td>Support Vector Machine</td>\n",
       "      <td>0.94493634</td>\n",
       "      <td>0.95258987</td>\n",
       "      <td>0.9008712</td>\n",
       "    </tr>\n",
       "    <tr>\n",
       "      <th>3</th>\n",
       "      <td>Random Forest</td>\n",
       "      <td>0.98650414</td>\n",
       "      <td>0.9914976</td>\n",
       "      <td>0.9602072</td>\n",
       "    </tr>\n",
       "    <tr>\n",
       "      <th>4</th>\n",
       "      <td>Gradient Boost</td>\n",
       "      <td>0.98644924</td>\n",
       "      <td>0.9885216</td>\n",
       "      <td>0.9569108</td>\n",
       "    </tr>\n",
       "  </tbody>\n",
       "</table>\n",
       "</div>"
      ],
      "text/plain": [
       "                    Model CV test score CV train score    Accuracy\n",
       "0     Logistic Regression     0.9272443      0.9258436   0.8544855\n",
       "1     K-Nearest Neighbors     0.8747943     0.94298273  0.84365433\n",
       "2  Support Vector Machine    0.94493634     0.95258987   0.9008712\n",
       "3           Random Forest    0.98650414      0.9914976   0.9602072\n",
       "4          Gradient Boost    0.98644924      0.9885216   0.9569108"
      ]
     },
     "execution_count": 21,
     "metadata": {},
     "output_type": "execute_result"
    }
   ],
   "source": [
    "cv_scores_test = pd.to_numeric([cv_scores_lr_test,cv_scores_knn_test,cv_scores_svm_test,cv_scores_rf_test,cv_scores_gb_test], downcast='float')\n",
    "cv_scores_train = pd.to_numeric([cv_scores_lr_train,cv_scores_knn_train,cv_scores_svm_train,cv_scores_rf_train,cv_scores_gb_train], downcast='float')\n",
    "accuracy_scores = pd.to_numeric([accuracy_score(y_test, y_pred_lr),accuracy_score(y_test, y_pred_knn),accuracy_score(y_test, y_pred_svm),accuracy_score(y_test, y_pred_rf),accuracy_score(y_test, y_pred_gb)], downcast='float')\n",
    "cols = ['Model', 'CV test score', 'CV train score', 'Accuracy']\n",
    "indexes = ['Logistic Regression', 'K-Nearest Neighbors', 'Support Vector Machine', 'Random Forest', 'Gradient Boost']\n",
    "\n",
    "df_scores = pd.DataFrame(np.array([indexes, cv_scores_test, cv_scores_train, accuracy_scores])).T\n",
    "\n",
    "df_scores.columns = cols\n",
    "#df_scores.set_index('Model', inplace=True)\n",
    "\n",
    "df_scores"
   ]
  },
  {
   "cell_type": "code",
   "execution_count": 22,
   "id": "8dbe1469",
   "metadata": {},
   "outputs": [
    {
     "data": {
      "image/png": "[encoded data removed]",
      "text/plain": [
       "<Figure size 1080x720 with 1 Axes>"
      ]
     },
     "metadata": {
      "needs_background": "light"
     },
     "output_type": "display_data"
    }
   ],
   "source": [
    "df_scores.explode('CV test score')\n",
    "df_scores['CV test score'] = df_scores['CV test score'].astype('float')\n",
    "\n",
    "df_scores.explode('CV train score')\n",
    "df_scores['CV train score'] = df_scores['CV train score'].astype('float')\n",
    "\n",
    "df_scores.explode('Accuracy')\n",
    "df_scores['Accuracy'] = df_scores['Accuracy'].astype('float')\n",
    "\n",
    "fig, ax1 = plt.subplots(figsize=(15, 10))\n",
    "tidy = df_scores.melt(id_vars='Model').rename(columns=str.title)\n",
    "tidy\n",
    "sns.barplot(x='Model', y='Value', hue='Variable', data=tidy, ax=ax1)\n",
    "plt.title('Comparison of ML models test scores and accuracy')\n",
    "plt.xlabel('Model')\n",
    "plt.legend(loc='best')\n",
    "sns.despine(fig)"
   ]
  },
  {
   "cell_type": "markdown",
   "id": "b4bd20a2",
   "metadata": {},
   "source": [
    "From the barplot, we can see that Random Forest and Gradient Boost are the best models to use for our credit card churn predictions."
   ]
  },
  {
   "cell_type": "markdown",
   "id": "80ff8a4f",
   "metadata": {},
   "source": [
    "## Hyperparameter Tuning for Random Forest"
   ]
  },
  {
   "cell_type": "code",
   "execution_count": 23,
   "id": "c4c7d925",
   "metadata": {},
   "outputs": [
    {
     "name": "stdout",
     "output_type": "stream",
     "text": [
      "{'bootstrap': [True, False],\n",
      " 'max_depth': [10, 32, 55, 77, 100],\n",
      " 'max_features': ['auto', 'sqrt'],\n",
      " 'min_samples_leaf': [1, 2, 4],\n",
      " 'min_samples_split': [2, 5, 10],\n",
      " 'n_estimators': [200, 400, 600, 800, 1000]}\n"
     ]
    }
   ],
   "source": [
    "from sklearn.model_selection import RandomizedSearchCV\n",
    "\n",
    "rf = RandomForestClassifier(random_state=42)\n",
    "\n",
    "# number of trees in random forest\n",
    "n_estimators = [int(x) for x in np.linspace(start=200, stop=1000, num=5)]\n",
    "\n",
    "# number of features to consider at every split\n",
    "max_features = ['auto', 'sqrt']\n",
    "\n",
    "# maximum number of levels in tree\n",
    "max_depth = [int(x) for x in np.linspace(start=10, stop=100, num=5)]\n",
    "\n",
    "# minimum number of samples required to split a node\n",
    "min_samples_split = [2, 5, 10]\n",
    "\n",
    "# minimum number of samples required at each leaf node\n",
    "min_samples_leaf = [1, 2, 4]\n",
    "\n",
    "# mehtod of selecting samples for training each tree\n",
    "bootstrap = [True, False]\n",
    "\n",
    "# create the random grid\n",
    "random_grid = {'n_estimators': n_estimators,\n",
    "               'max_features': max_features,\n",
    "               'max_depth': max_depth,\n",
    "               'min_samples_split': min_samples_split,\n",
    "               'min_samples_leaf': min_samples_leaf,\n",
    "               'bootstrap': bootstrap}\n",
    "\n",
    "from pprint import pprint\n",
    "\n",
    "pprint(random_grid)"
   ]
  },
  {
   "cell_type": "markdown",
   "id": "0f501788",
   "metadata": {},
   "source": [
    "##### Random search training"
   ]
  },
  {
   "cell_type": "code",
   "execution_count": 24,
   "id": "fc4464e9",
   "metadata": {},
   "outputs": [
    {
     "name": "stdout",
     "output_type": "stream",
     "text": [
      "Fitting 3 folds for each of 50 candidates, totalling 150 fits\n"
     ]
    },
    {
     "data": {
      "text/plain": [
       "RandomizedSearchCV(cv=3, estimator=RandomForestClassifier(random_state=42),\n",
       "                   n_iter=50, n_jobs=-1,\n",
       "                   param_distributions={'bootstrap': [True, False],\n",
       "                                        'max_depth': [10, 32, 55, 77, 100],\n",
       "                                        'max_features': ['auto', 'sqrt'],\n",
       "                                        'min_samples_leaf': [1, 2, 4],\n",
       "                                        'min_samples_split': [2, 5, 10],\n",
       "                                        'n_estimators': [200, 400, 600, 800,\n",
       "                                                         1000]},\n",
       "                   random_state=42, verbose=2)"
      ]
     },
     "execution_count": 24,
     "metadata": {},
     "output_type": "execute_result"
    }
   ],
   "source": [
    "# Use the random grid to search for best hyperparameters\n",
    "# Random search of parameters, using 3 fold cross validation, \n",
    "# search across 100 different combinations, and use all available cores\n",
    "rf_random = RandomizedSearchCV(estimator = rf, param_distributions = random_grid, n_iter = 50, cv = 3, verbose=2, random_state=42, n_jobs = -1)\n",
    "# Fit the random search model\n",
    "rf_random.fit(X_train, y_train)"
   ]
  },
  {
   "cell_type": "code",
   "execution_count": 25,
   "id": "b5349701",
   "metadata": {},
   "outputs": [
    {
     "data": {
      "text/plain": [
       "RandomForestClassifier(bootstrap=False, max_depth=32, max_features='sqrt',\n",
       "                       n_estimators=1000, random_state=42)"
      ]
     },
     "execution_count": 25,
     "metadata": {},
     "output_type": "execute_result"
    }
   ],
   "source": [
    "# view the best parameters from fitting the random search\n",
    "rf_random.best_estimator_"
   ]
  },
  {
   "cell_type": "code",
   "execution_count": 26,
   "id": "a2cbb5db",
   "metadata": {},
   "outputs": [
    {
     "name": "stdout",
     "output_type": "stream",
     "text": [
      "Using best hyperparameters resulted in an accuracy improvement of 0.42%.\n"
     ]
    }
   ],
   "source": [
    "base_model = RandomForestClassifier(random_state=42)\n",
    "base_model.fit(X_train, y_train)\n",
    "y_pred_rf = base_model.predict(X_test)\n",
    "base_accuracy = accuracy_score(y_test, y_pred_rf)\n",
    "best_random = rf_random.best_estimator_\n",
    "y_pred_rf_random = rf_random.predict(X_test)\n",
    "random_accuracy = accuracy_score(y_test, y_pred_rf_random)\n",
    "\n",
    "print('Using best hyperparameters resulted in an accuracy improvement of {:0.2f}%.'.format( 100 * (random_accuracy - base_accuracy) / base_accuracy))"
   ]
  },
  {
   "cell_type": "markdown",
   "id": "ce4277ea",
   "metadata": {},
   "source": [
    "##### Now we will fit this random model with the optimal hyperparameters to our dataset."
   ]
  },
  {
   "cell_type": "code",
   "execution_count": 55,
   "id": "c07cfec6",
   "metadata": {},
   "outputs": [
    {
     "name": "stdout",
     "output_type": "stream",
     "text": [
      "0.9642100306098422\n",
      "0.9611926171320397\n",
      "0.9892095367152052\n"
     ]
    }
   ],
   "source": [
    "rf = RandomForestClassifier(bootstrap=False, max_depth=32, max_features='sqrt',\n",
    "                       n_estimators=1000, random_state=42)\n",
    "rf.fit(X_train, y_train)\n",
    "y_pred_rf = rf.predict(X_test)\n",
    "acc = accuracy_score(y_test, y_pred_rf)\n",
    "recall = recall_score(y_test, y_pred_rf)\n",
    "cv = cross_val_score(rf, X_test, y_test,scoring='roc_auc').mean()\n",
    "print(acc)\n",
    "print(recall)\n",
    "print(cv)"
   ]
  },
  {
   "cell_type": "code",
   "execution_count": 31,
   "id": "45d2f070",
   "metadata": {
    "scrolled": false
   },
   "outputs": [
    {
     "name": "stdout",
     "output_type": "stream",
     "text": [
      "                          Features  Importance scores\n",
      "0                  Dependent_count           0.000062\n",
      "1                   Months_on_book           0.000578\n",
      "2         Total_Relationship_Count           0.001712\n",
      "3           Months_Inactive_12_mon           0.001828\n",
      "4            Contacts_Count_12_mon           0.002001\n",
      "5                     Credit_Limit           0.002155\n",
      "6              Total_Revolving_Bal           0.002478\n",
      "7                  Avg_Open_To_Buy           0.003091\n",
      "8             Total_Amt_Chng_Q4_Q1           0.003147\n",
      "9                   Total_Trans_Ct           0.003235\n",
      "10             Total_Ct_Chng_Q4_Q1           0.003260\n",
      "11                        Gender_M           0.003414\n",
      "12       Education_Level_Doctorate           0.003558\n",
      "13        Education_Level_Graduate           0.004009\n",
      "14     Education_Level_High School           0.004137\n",
      "15   Education_Level_Post-Graduate           0.004678\n",
      "16      Education_Level_Uneducated           0.005715\n",
      "17         Education_Level_Unknown           0.008433\n",
      "18          Marital_Status_Married           0.030247\n",
      "19           Marital_Status_Single           0.030926\n",
      "20          Marital_Status_Unknown           0.030964\n",
      "21     Income_Category_$40K - $60K           0.034735\n",
      "22     Income_Category_$60K - $80K           0.043509\n",
      "23    Income_Category_$80K - $120K           0.072548\n",
      "24  Income_Category_Less than $40K           0.080952\n",
      "25         Income_Category_Unknown           0.103174\n",
      "26              Card_Category_Gold           0.113403\n",
      "27          Card_Category_Platinum           0.136571\n",
      "28            Card_Category_Silver           0.265478\n"
     ]
    },
    {
     "data": {
      "image/png": "[encoded data removed]",
      "text/plain": [
       "<Figure size 1080x576 with 1 Axes>"
      ]
     },
     "metadata": {
      "needs_background": "light"
     },
     "output_type": "display_data"
    }
   ],
   "source": [
    "#Feature importances:\n",
    "\n",
    "features = X\n",
    "importances = list(rf.feature_importances_)\n",
    "imp=np.sort(importances)\n",
    "tab=pd.DataFrame(list(zip(X,imp)),columns =['Features', 'Importance scores']) \n",
    "print(tab)\n",
    "\n",
    "#Visual comparison:\n",
    "plt.figure(figsize=(15,8))\n",
    "#indices = np.argsort(importances)\n",
    "index = range(29)\n",
    "_=plt.barh(index,imp, align='center',color='b')\n",
    "plt.xlabel('Relative Importance',fontsize=15)\n",
    "plt.ylabel('Features',fontsize=15)\n",
    "plt.yticks(index, features)\n",
    "plt.title('Feature Importance for Random Forest Classifier model',fontsize=15)\n",
    "plt.savefig(\"Feature_Importance_RF.png\")\n",
    "plt.show()\n",
    "#len(importances)"
   ]
  },
  {
   "cell_type": "markdown",
   "id": "d248082a",
   "metadata": {},
   "source": [
    "##### ROC-AUC Score and the ROC curve:"
   ]
  },
  {
   "cell_type": "code",
   "execution_count": 32,
   "id": "0225c004",
   "metadata": {},
   "outputs": [
    {
     "name": "stdout",
     "output_type": "stream",
     "text": [
      "ROC-AUC Score: 0.9951087146956118\n"
     ]
    }
   ],
   "source": [
    "from sklearn.metrics import auc, roc_curve, roc_auc_score\n",
    "y_scores_rf = rf.predict_proba(X_test)\n",
    "y_scores_rf = y_scores_rf[:,1]\n",
    "auroc = roc_auc_score(y_test, y_scores_rf)\n",
    "print(\"ROC-AUC Score:\", auroc)"
   ]
  },
  {
   "cell_type": "code",
   "execution_count": 33,
   "id": "e538570a",
   "metadata": {},
   "outputs": [
    {
     "data": {
      "image/png": "[encoded data removed]",
      "text/plain": [
       "<Figure size 1080x720 with 1 Axes>"
      ]
     },
     "metadata": {
      "needs_background": "light"
     },
     "output_type": "display_data"
    }
   ],
   "source": [
    "false_positive_rate, true_positive_rate, thresholds = roc_curve(y_test, y_scores_rf)\n",
    "def plot_roc_curve(false_positive_rate, true_positive_rate, label=None):\n",
    "    plt.plot(false_positive_rate, true_positive_rate, linewidth=2, label=label)\n",
    "    plt.plot([0, 1], [0, 1], 'r', linewidth=4)\n",
    "    plt.axis([0, 1, 0, 1])\n",
    "    plt.xlabel('False Positive Rate (FPR)', fontsize=15)\n",
    "    plt.ylabel('True Positive Rate (TPR)', fontsize=15)\n",
    "    plt.title('ROC curve (RF)',fontsize=15)\n",
    "\n",
    "plt.figure(figsize=(15, 10))\n",
    "plot_roc_curve(false_positive_rate, true_positive_rate)\n",
    "plt.savefig(\"ROC curve RF.png\")\n",
    "plt.show()"
   ]
  },
  {
   "cell_type": "markdown",
   "id": "079d4bcb",
   "metadata": {},
   "source": [
    "## Hyperparameter Tuning for Gradient boost "
   ]
  },
  {
   "cell_type": "code",
   "execution_count": 36,
   "id": "7ef5cefb",
   "metadata": {
    "scrolled": true
   },
   "outputs": [
    {
     "name": "stdout",
     "output_type": "stream",
     "text": [
      "Fitting 3 folds for each of 50 candidates, totalling 150 fits\n"
     ]
    },
    {
     "data": {
      "text/plain": [
       "RandomizedSearchCV(cv=3,\n",
       "                   estimator=GradientBoostingClassifier(learning_rate=1.0,\n",
       "                                                        random_state=42),\n",
       "                   n_iter=50, n_jobs=-1,\n",
       "                   param_distributions={'learning_rate': [0.1, 0.5, 1.0],\n",
       "                                        'max_depth': [4, 8],\n",
       "                                        'max_features': ['auto', 'sqrt'],\n",
       "                                        'min_samples_leaf': [1, 2, 4],\n",
       "                                        'min_samples_split': [2, 5, 10],\n",
       "                                        'n_estimators': [100, 200, 300]},\n",
       "                   random_state=42, verbose=2)"
      ]
     },
     "execution_count": 36,
     "metadata": {},
     "output_type": "execute_result"
    }
   ],
   "source": [
    "gb =  GradientBoostingClassifier(n_estimators=100, learning_rate=1.0, random_state=42)\n",
    "\n",
    "# number of trees in random forest\n",
    "n_estimators = [int(x) for x in np.linspace(start=100, stop=300, num=3)]\n",
    "\n",
    "# number of features to consider at every split\n",
    "max_features = ['auto', 'sqrt']\n",
    "\n",
    "# maximum number of levels in tree\n",
    "max_depth = [4, 8]\n",
    "\n",
    "# minimum number of samples required to split a node\n",
    "min_samples_split = [2, 5, 10]\n",
    "\n",
    "# minimum number of samples required at each leaf node\n",
    "min_samples_leaf = [1, 2, 4]\n",
    "\n",
    "learning_rate = [0.1, 0.5, 1.0]\n",
    "\n",
    "\n",
    "gb_grid = {'n_estimators': n_estimators,\n",
    "           'max_features': max_features,\n",
    "           'max_depth': max_depth,\n",
    "           'min_samples_split': min_samples_split,\n",
    "           'min_samples_leaf': min_samples_leaf,\n",
    "           'learning_rate': learning_rate}\n",
    "gb_random = RandomizedSearchCV(estimator = gb, param_distributions = gb_grid, n_iter = 50, cv = 3, verbose=2, random_state=42, n_jobs = -1)\n",
    "# Fit the random search model\n",
    "gb_random.fit(X_train, y_train)"
   ]
  },
  {
   "cell_type": "code",
   "execution_count": 37,
   "id": "4849f332",
   "metadata": {
    "scrolled": true
   },
   "outputs": [
    {
     "data": {
      "text/plain": [
       "{'n_estimators': 200,\n",
       " 'min_samples_split': 2,\n",
       " 'min_samples_leaf': 1,\n",
       " 'max_features': 'sqrt',\n",
       " 'max_depth': 8,\n",
       " 'learning_rate': 0.1}"
      ]
     },
     "execution_count": 37,
     "metadata": {},
     "output_type": "execute_result"
    }
   ],
   "source": [
    "# view the best parameters from fitting the random search\n",
    "gb_random.best_params_"
   ]
  },
  {
   "cell_type": "code",
   "execution_count": 39,
   "id": "d78212c6",
   "metadata": {},
   "outputs": [
    {
     "name": "stdout",
     "output_type": "stream",
     "text": [
      "Using best hyperparameters resulted in an accuracy improvement of 0.89%.\n"
     ]
    }
   ],
   "source": [
    "base_model = GradientBoostingClassifier(n_estimators=100, learning_rate=1.0, random_state=42)\n",
    "base_model.fit(X_train, y_train)\n",
    "y_pred_gb = base_model.predict(X_test)\n",
    "base_accuracy = accuracy_score(y_test, y_pred_gb)\n",
    "best_random = gb_random.best_estimator_\n",
    "y_pred_gb_random = gb_random.predict(X_test)\n",
    "random_accuracy = accuracy_score(y_test, y_pred_gb_random)\n",
    "\n",
    "print('Using best hyperparameters resulted in an accuracy improvement of {:0.2f}%.'.format( 100 * (random_accuracy - base_accuracy) / base_accuracy))"
   ]
  },
  {
   "cell_type": "markdown",
   "id": "cb388a98",
   "metadata": {},
   "source": [
    "##### Now we will fit this random model with the optimal hyperparameters to our dataset."
   ]
  },
  {
   "cell_type": "code",
   "execution_count": 56,
   "id": "f07b8d4c",
   "metadata": {},
   "outputs": [
    {
     "name": "stdout",
     "output_type": "stream",
     "text": [
      "0.9653873322345184\n",
      "0.9574065309985802\n",
      "0.9892095367152052\n"
     ]
    }
   ],
   "source": [
    "gb = GradientBoostingClassifier(n_estimators=200,\n",
    "                             min_samples_split=2,\n",
    "                             min_samples_leaf=1,\n",
    "                             max_features='sqrt',\n",
    "                             max_depth=8,\n",
    "                             learning_rate=0.1)\n",
    "gb.fit(X_train, y_train)\n",
    "y_pred_gb = gb.predict(X_test)\n",
    "acc = accuracy_score(y_test, y_pred_gb)\n",
    "recall = recall_score(y_test, y_pred_gb)\n",
    "cv = cross_val_score(rf, X_test, y_test,scoring='roc_auc').mean()\n",
    "print(acc)\n",
    "print(recall)\n",
    "print(cv)"
   ]
  },
  {
   "cell_type": "code",
   "execution_count": 46,
   "id": "dbb5d75f",
   "metadata": {
    "scrolled": false
   },
   "outputs": [
    {
     "name": "stdout",
     "output_type": "stream",
     "text": [
      "                          Features  Importance scores\n",
      "0                  Dependent_count           0.000147\n",
      "1                   Months_on_book           0.000422\n",
      "2         Total_Relationship_Count           0.000882\n",
      "3           Months_Inactive_12_mon           0.001027\n",
      "4            Contacts_Count_12_mon           0.001039\n",
      "5                     Credit_Limit           0.001101\n",
      "6              Total_Revolving_Bal           0.001104\n",
      "7                  Avg_Open_To_Buy           0.001196\n",
      "8             Total_Amt_Chng_Q4_Q1           0.001370\n",
      "9                   Total_Trans_Ct           0.001449\n",
      "10             Total_Ct_Chng_Q4_Q1           0.001523\n",
      "11                        Gender_M           0.001839\n",
      "12       Education_Level_Doctorate           0.001970\n",
      "13        Education_Level_Graduate           0.002060\n",
      "14     Education_Level_High School           0.002103\n",
      "15   Education_Level_Post-Graduate           0.002594\n",
      "16      Education_Level_Uneducated           0.004431\n",
      "17         Education_Level_Unknown           0.005512\n",
      "18          Marital_Status_Married           0.019161\n",
      "19           Marital_Status_Single           0.020732\n",
      "20          Marital_Status_Unknown           0.022169\n",
      "21     Income_Category_$40K - $60K           0.028862\n",
      "22     Income_Category_$60K - $80K           0.038204\n",
      "23    Income_Category_$80K - $120K           0.078892\n",
      "24  Income_Category_Less than $40K           0.091558\n",
      "25         Income_Category_Unknown           0.110295\n",
      "26              Card_Category_Gold           0.129526\n",
      "27          Card_Category_Platinum           0.135005\n",
      "28            Card_Category_Silver           0.293828\n"
     ]
    },
    {
     "data": {
      "image/png": "[encoded data removed]",
      "text/plain": [
       "<Figure size 1080x576 with 1 Axes>"
      ]
     },
     "metadata": {
      "needs_background": "light"
     },
     "output_type": "display_data"
    }
   ],
   "source": [
    "#Feature importances:\n",
    "\n",
    "features = X\n",
    "importances = list(gb.feature_importances_)\n",
    "imp=np.sort(importances)\n",
    "tab=pd.DataFrame(list(zip(X,imp)),columns =['Features', 'Importance scores']) \n",
    "print(tab)\n",
    "\n",
    "#Visual comparison:\n",
    "plt.figure(figsize=(15,8))\n",
    "#indices = np.argsort(importances)\n",
    "index = range(29)\n",
    "_=plt.barh(index,imp, align='center',color='b')\n",
    "plt.xlabel('Relative Importance',fontsize=15)\n",
    "plt.ylabel('Features',fontsize=15)\n",
    "plt.yticks(index, features)\n",
    "plt.title('Feature Importance for Gradient Boosting model',fontsize=15)\n",
    "plt.savefig(\"Feature_Importance_GB.png\")\n",
    "plt.show()"
   ]
  },
  {
   "cell_type": "markdown",
   "id": "4bc11783",
   "metadata": {},
   "source": [
    "##### ROC-AUC Score and the ROC curve:"
   ]
  },
  {
   "cell_type": "code",
   "execution_count": 67,
   "id": "e4f51a2e",
   "metadata": {},
   "outputs": [
    {
     "name": "stdout",
     "output_type": "stream",
     "text": [
      "ROC-AUC Score: 0.9954275114866642\n"
     ]
    }
   ],
   "source": [
    "from sklearn.metrics import auc, roc_curve, roc_auc_score\n",
    "y_scores_gb = gb.predict_proba(X_test)\n",
    "y_scores_gb = y_scores_gb[:,1]\n",
    "auc = roc_auc_score(y_test, y_scores_gb)\n",
    "print(\"ROC-AUC Score:\", auc)"
   ]
  },
  {
   "cell_type": "code",
   "execution_count": 68,
   "id": "71d515d4",
   "metadata": {},
   "outputs": [
    {
     "data": {
      "image/png": "[encoded data removed]",
      "text/plain": [
       "<Figure size 1080x720 with 1 Axes>"
      ]
     },
     "metadata": {
      "needs_background": "light"
     },
     "output_type": "display_data"
    }
   ],
   "source": [
    "false_positive_rate, true_positive_rate, thresholds = roc_curve(y_test, y_scores_gb)\n",
    "def plot_roc_curve(false_positive_rate, true_positive_rate, label=None):\n",
    "    plt.plot(false_positive_rate, true_positive_rate, linewidth=2, label=label)\n",
    "    plt.plot([0, 1], [0, 1], 'r', linewidth=4)\n",
    "    plt.axis([0, 1, 0, 1])\n",
    "    plt.xlabel('False Positive Rate (FPR)', fontsize=15)\n",
    "    plt.ylabel('True Positive Rate (TPR)', fontsize=15)\n",
    "    plt.title('ROC curve (GB)',fontsize=15)\n",
    "\n",
    "plt.figure(figsize=(15, 10))\n",
    "plot_roc_curve(false_positive_rate, true_positive_rate)\n",
    "plt.savefig(\"ROC curve GB.png\")\n",
    "plt.show()"
   ]
  },
  {
   "cell_type": "markdown",
   "id": "477dc95b",
   "metadata": {},
   "source": [
    "## Conclusion\n",
    "\n",
    "- In order to predict the credit card churning rate, here we have considered a bunch of 29 features engineered from the original dataset. From the feature importance graphs, we can see that a bank customer possessing a silver credit card is an overly important feature to predict whether he/she churns on the credit card or not.\n",
    "\n",
    "- This is a classification problem. Here we have used the following classification models:\n",
    "\n",
    "Logistic Regression\n",
    "K-Nearest Neighbor (KNN)\n",
    "Support vector machine (SVM)\n",
    "Random Forest\n",
    "Gradient Boost\n",
    "\n",
    "- We have evaluated each models in terms of model accuracy score, and 'ROC-AUC' score for both the training and test data, and plotted them. The two best performing models are Random Forest and Gradient Boosting. Both are ensemble models, based on decision trees.\n",
    "\n",
    "- Using optimal parameters for our Random Forest and Gradient Boosting models, we can see that Gradient Boosting is a little bit more accurate than Random Forest (GB 96.6% vs RF 96.4%), but the recall score of Random Forest is higher than Gradient Boosting (recall GB 95.7% vs. RF 96.1%). Since we need to focus on keeping the number of false negative (i.e. the number of people predicted as \"not churn\" but in fact churn on their credit cards) as low as possible, we will select the Random Forest model in this case for future predictions."
   ]
  }
 ],
 "metadata": {
  "kernelspec": {
   "display_name": "Python 3",
   "language": "python",
   "name": "python3"
  },
  "language_info": {
   "codemirror_mode": {
    "name": "ipython",
    "version": 3
   },
   "file_extension": ".py",
   "mimetype": "text/x-python",
   "name": "python",
   "nbconvert_exporter": "python",
   "pygments_lexer": "ipython3",
   "version": "3.8.8"
  }
 },
 "nbformat": 4,
 "nbformat_minor": 5
}
